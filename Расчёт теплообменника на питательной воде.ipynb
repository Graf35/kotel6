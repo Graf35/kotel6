{
 "cells": [
  {
   "cell_type": "code",
   "execution_count": null,
   "id": "38e5308b",
   "metadata": {},
   "outputs": [],
   "source": []
  },
  {
   "cell_type": "code",
   "execution_count": 142,
   "id": "e91535af",
   "metadata": {},
   "outputs": [],
   "source": [
    "kF=3.6 #коэфициент перевода из т/ч в кг/с\n",
    "Fb=33/kF #Расход пара балансный\n",
    "Tb1=445 #Температура пара до пароохладителя баланса\n",
    "hb1=3315 #Энтальпия до пароохладителя баланса\n",
    "vb1=0.00736 #Объём до пароохладителя баланса\n",
    "Tb2=260 #Температура после пароохладителя баланса\n",
    "hb2=2820 #энтальпия после пароохладителя баланса\n",
    "vb2=0.04727 #Объём после пароохладителя баланса\n",
    "Tkb=171 #Температура конденсата баланса\n",
    "hkb=725 #энтальпия конденсата баланса\n",
    "vkb=0.01113 #Объём после пароохладителя баланса\n",
    "cwater=4.2 #Теплоёмность воды\n",
    "ccondensation=1712 #теплотапарообрзования\n",
    "csteamb=(hb1-hb2)/(Tb1-Tb2) #теплоёмкость процесса охлаждения пара\n",
    "csteama=(hb2-2800)/(Tb2-255) #теплоёмкость процесса нагрева пара в пароохладителе\n",
    "Q=Fb*csteamb*(Tb1-Tb2) #теплота требуемая для охлаждения пара при балансе\n",
    "Gkb=Q/(cwater*(255-Tkb)+ccondensation+csteama*(Tb2-255)) # расход конденсата при балансе\n",
    "lcold=0.6 #коэфициент теплопередачи хилодной воды\n",
    "lhot=0.684 #коэфициент теплопередачи горячей воды \n",
    "lamd=20 #лямда стали\n",
    "db=0.004 #толщина стенки теплообменного аппарата\n",
    "csteam=(3495-hb2)/(523-Tb2)#теплоёмкость процесса охлаждения пара при максимальной нагрузке\n",
    "Q1=(45)/kF*csteam*(523-Tb2)#теплота требуемая для охлаждения пара при максимальной нагрузке\n",
    "Gwater=Q/(cwater*(197-104)) #расход питательной воды баланса"
   ]
  },
  {
   "cell_type": "code",
   "execution_count": 143,
   "id": "5ef9fe4c",
   "metadata": {},
   "outputs": [
    {
     "data": {
      "text/plain": [
       "8147.9838709677415"
      ]
     },
     "execution_count": 143,
     "metadata": {},
     "output_type": "execute_result"
    }
   ],
   "source": [
    "Q3=Gwater*cwater*(197-30)#теплота охлаждения воды при балансе\n",
    "Q3"
   ]
  },
  {
   "cell_type": "code",
   "execution_count": 144,
   "id": "9346a40a",
   "metadata": {},
   "outputs": [],
   "source": [
    "k=1/(1/lcold+db/lamd+1/lhot)#коэфициент теплопередачи"
   ]
  },
  {
   "cell_type": "code",
   "execution_count": null,
   "id": "d7d639ef",
   "metadata": {},
   "outputs": [],
   "source": [
    "dTcp="
   ]
  },
  {
   "cell_type": "code",
   "execution_count": 141,
   "id": "05a3547b",
   "metadata": {},
   "outputs": [
    {
     "data": {
      "text/plain": [
       "191.85377607871027"
      ]
     },
     "execution_count": 141,
     "metadata": {},
     "output_type": "execute_result"
    }
   ],
   "source": [
    "F=Q/((104-30)*k)\n",
    "F"
   ]
  },
  {
   "cell_type": "code",
   "execution_count": null,
   "id": "27b957d3",
   "metadata": {},
   "outputs": [],
   "source": []
  }
 ],
 "metadata": {
  "kernelspec": {
   "display_name": "Python 3 (ipykernel)",
   "language": "python",
   "name": "python3"
  },
  "language_info": {
   "codemirror_mode": {
    "name": "ipython",
    "version": 3
   },
   "file_extension": ".py",
   "mimetype": "text/x-python",
   "name": "python",
   "nbconvert_exporter": "python",
   "pygments_lexer": "ipython3",
   "version": "3.10.9"
  }
 },
 "nbformat": 4,
 "nbformat_minor": 5
}
