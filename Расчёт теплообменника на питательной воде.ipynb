{
 "cells": [
  {
   "cell_type": "code",
   "execution_count": 2,
   "id": "38e5308b",
   "metadata": {},
   "outputs": [],
   "source": [
    "from math import log"
   ]
  },
  {
   "cell_type": "code",
   "execution_count": 156,
   "id": "e91535af",
   "metadata": {},
   "outputs": [],
   "source": [
    "kF=3.6 #коэфициент перевода из т/ч в кг/с\n",
    "Fb=33/kF #Расход пара балансный\n",
    "Tb1=445 #Температура пара до пароохладителя баланса\n",
    "hb1=3315 #Энтальпия до пароохладителя баланса\n",
    "vb1=0.00736 #Объём до пароохладителя баланса\n",
    "Tb2=260 #Температура после пароохладителя баланса\n",
    "hb2=2820 #энтальпия после пароохладителя баланса\n",
    "vb2=0.04727 #Объём после пароохладителя баланса\n",
    "Tkb=171 #Температура конденсата баланса\n",
    "hkb=725 #энтальпия конденсата баланса\n",
    "vkb=0.01113 #Объём после пароохладителя баланса\n",
    "cwater=4.2 #Теплоёмность воды\n",
    "ccondensation=1712 #теплотапарообрзования\n",
    "csteamb=((hb1-hb2)/(Tb1-Tb2)) #теплоёмкость процесса охлаждения пара\n",
    "csteama=((hb2-2800)/(Tb2-255)) #теплоёмкость процесса нагрева пара в пароохладителе\n",
    "Q=Fb*csteamb*(Tb1-Tb2) #теплота требуемая для охлаждения пара при балансе\n",
    "Gkb=Q/(cwater*(255-Tkb)+ccondensation+csteama*(Tb2-255)) # расход конденсата при балансе\n",
    "lcold=0.6 #коэфициент теплопередачи хилодной воды\n",
    "lhot=0.684 #коэфициент теплопередачи горячей воды \n",
    "lamd=20 #лямда стали\n",
    "db=0.004 #толщина стенки теплообменного аппарата\n",
    "csteam=(3495-hb2)/(523-Tb2)#теплоёмкость процесса охлаждения пара при максимальной нагрузке\n",
    "Q1=((42)/kF)*csteam*(487-Tb2)#теплота требуемая для охлаждения пара при максимальной нагрузке\n",
    "Twater=197#температура питательной воды после конденсатора баланса\n",
    "T1water=104 #температура питательной воды\n",
    "Gwater=Q/(cwater*(T1water-Twater)) #расход питательной воды баланса\n",
    "T1cold=10 #Температура ХОВ\n",
    "Gcold=80/kF # Расход ХОВ"
   ]
  },
  {
   "cell_type": "code",
   "execution_count": 165,
   "id": "5ef9fe4c",
   "metadata": {},
   "outputs": [
    {
     "data": {
      "text/plain": [
       "2259.553231939163"
      ]
     },
     "execution_count": 165,
     "metadata": {},
     "output_type": "execute_result"
    }
   ],
   "source": [
    "Q2=Q1-Q\n",
    "Q2 #Теплота которую необходимо рассеять"
   ]
  },
  {
   "cell_type": "code",
   "execution_count": 166,
   "id": "90e770c0",
   "metadata": {},
   "outputs": [
    {
     "data": {
      "text/plain": [
       "57.68849574207335"
      ]
     },
     "execution_count": 166,
     "metadata": {},
     "output_type": "execute_result"
    }
   ],
   "source": [
    "T2water=T1water+Q2/(Gwater*cwater)\n",
    "T2water #Требуемая темпрература пит. воды"
   ]
  },
  {
   "cell_type": "code",
   "execution_count": 167,
   "id": "9346a40a",
   "metadata": {},
   "outputs": [],
   "source": [
    "k=1/(1/lcold+db/lamd+1/lhot)#коэфициент теплопередачи"
   ]
  },
  {
   "cell_type": "code",
   "execution_count": 168,
   "id": "7762d8ec",
   "metadata": {},
   "outputs": [
    {
     "data": {
      "text/plain": [
       "34.209498913633894"
      ]
     },
     "execution_count": 168,
     "metadata": {},
     "output_type": "execute_result"
    }
   ],
   "source": [
    "T2cold=T1cold+Q2/(Gcold*cwater)\n",
    "T2cold#Требуемая темпрература хол. воды"
   ]
  },
  {
   "cell_type": "code",
   "execution_count": 170,
   "id": "d7d639ef",
   "metadata": {},
   "outputs": [
    {
     "data": {
      "text/plain": [
       "42.5113452440413"
      ]
     },
     "execution_count": 170,
     "metadata": {},
     "output_type": "execute_result"
    }
   ],
   "source": [
    "dTcp=((T1water-T2cold)-(T2water-T2cold))/log((T1water-T2cold)/(T2water-T2cold))\n",
    "dTcp #средний температурный напор"
   ]
  },
  {
   "cell_type": "code",
   "execution_count": 171,
   "id": "05a3547b",
   "metadata": {},
   "outputs": [
    {
     "data": {
      "text/plain": [
       "166.30417882250288"
      ]
     },
     "execution_count": 171,
     "metadata": {},
     "output_type": "execute_result"
    }
   ],
   "source": [
    "F=Q2/((dTcp)*k)\n",
    "F #Требуемая площадь теплообмена"
   ]
  },
  {
   "cell_type": "code",
   "execution_count": null,
   "id": "3dda2e24",
   "metadata": {},
   "outputs": [],
   "source": []
  }
 ],
 "metadata": {
  "kernelspec": {
   "display_name": "Python 3 (ipykernel)",
   "language": "python",
   "name": "python3"
  },
  "language_info": {
   "codemirror_mode": {
    "name": "ipython",
    "version": 3
   },
   "file_extension": ".py",
   "mimetype": "text/x-python",
   "name": "python",
   "nbconvert_exporter": "python",
   "pygments_lexer": "ipython3",
   "version": "3.10.9"
  }
 },
 "nbformat": 4,
 "nbformat_minor": 5
}
